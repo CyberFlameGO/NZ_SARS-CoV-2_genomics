{
 "cells": [
  {
   "cell_type": "markdown",
   "metadata": {},
   "source": [
    "# GridION COVID RUNS"
   ]
  },
  {
   "cell_type": "markdown",
   "metadata": {},
   "source": [
    "${SNPDB[$item]}----------\n",
    "\n",
    "## GRAB DATA\n",
    "start or resume a screen session\n",
    "```bash\n",
    " screen -r sync # screen -S sync\n",
    "```\n",
    "\n",
    "find RUN_ID:\n",
    "\n",
    "- W:\\COVID-19\\sequencing\\Runs\n",
    "  - example: W:\\COVID-19\\sequencing\\Runs\\Artic_V3\\20210106\n",
    "\n",
    "export it:\n",
    "```bash\n",
    " export RUN_ID=20210203\n",
    "```\n",
    "\n",
    "sync it (here is an example using KSC GridION, for other sites, please make sure  to change to the correct IP addresses and directories, see next section \"SSH Login IP address and run directories\":\n",
    "```bash\n",
    "rsync -zavm --include=\"*/\" --exclude '*.fast5' --exclude '*/fast5_fail/*' --exclude '*/fastq_fail/*' --perms --group --chmod=D0770,F0640 --groupmap=*:SEC_lab_VIR grid@10.1.30.16:/data/${RUN_ID} /NGS/active/VIR/SARS-CoV2/run_links/GridIon\n",
    "```\n",
    "\n",
    "give gridion password\n",
    "\n",
    "detach screen (CRTL+d)\n",
    "\n",
    "wait / monitor progress\n",
    "\n"
   ]
  },
  {
   "cell_type": "markdown",
   "metadata": {},
   "source": [
    "## SSH Login IP address and run directories\n",
    "\n",
    "_KSC GridIon_\n",
    "- connection:                 ssh grid@10.1.30.16\n",
    "- path on Gridon:             /data/${RUN_ID} \n",
    "- path on production server: /NGS/active/VIR/SARS-CoV2/run_links/GridIon/\n",
    "\n",
    "_MASC GridIon_  \n",
    "- connection: ssh grid@10.2.31.23\n",
    "- path on Gridon: /data/COVID19/RAPID/${RUN_ID} #two folders for different protocols:  _ARTIC|RAPID_\n",
    "- path on production server: /NGS/active/VIR/SARS-CoV2/run_links/MASC/\n",
    "\n",
    "_CSC GridIon_: \n",
    "- connection: ssh grid@10.3.30.100  \n",
    "- path on Gridon: /data/GridION_CSC/COVID19/RAPID/${RUN_ID} #two folders for different protocols:  _ARTIC|RAPID_\n",
    "- path on production server: /NGS/active/VIR/SARS-CoV2/run_links/CSC/\n"
   ]
  },
  {
   "cell_type": "markdown",
   "metadata": {},
   "source": [
    "-------\n",
    "\n",
    "## Assembly\n",
    "start or resume a screen session\n",
    "```bash\n",
    "screen -r assem # screen -S assem\n",
    "```\n",
    "\n",
    "export RUN_ID\n",
    "```bash\n",
    " export RUN_ID=20210106\n",
    "```\n",
    "\n",
    "navigate to the SARS directory\n",
    "```bash\n",
    "cd /NGS/active/VIR/SARS-CoV2\n",
    "```\n",
    "\n",
    "### need to know both the amplicon design and location of the run!  \n",
    "location of the run is defined by:  \n",
    "-l M or C or K: M=MASC; C=CSC, K=KSC  \n",
    "\n",
    "### Rapid Assembly script has been consilidated!\n",
    "\n",
    "**NZ_SARS-CoV-2_genomics/Artic_pipeline/gridion_rapid.sh -c ./Artic_pipeline_config -l \"M, C or K\" -p V1200 $RUN_ID**\n"
   ]
  },
  {
   "cell_type": "markdown",
   "metadata": {},
   "source": [
    "### Rapid run script has been consilidated please see above\n",
    "\n",
    "## Run_scripts:\n",
    "\n",
    "### MASC gridIon artic run\n",
    "\n",
    "    rsync -zavmr --include=\"*/\" --exclude=\"*.fast5\" --exclude=\"*/fastq_fail/*\" --chmod=D0770,F0640 --groupmap=*:SEC_lab_VIR   grid@10.2.31.23:/data/COVID19/ARTIC/${RUN_ID} /NGS/active/VIR/SARS-CoV2/run_links/MASC/\n",
    "\n",
    "    bash NZ_SARS-CoV-2_genomics/Artic_pipeline/gridion_artic_96_run.sh -c ./Artic_pipeline_config -l M $RUN_ID\n",
    "\n",
    "### MASC gridIon rapid run\n",
    "    rsync -zavmr --include=\"*/\" --exclude=\"*.fast5\" --exclude=\"*/fastq_fail/*\" --chmod=D0770,F0640 --groupmap=*:SEC_lab_VIR   grid@10.2.31.23:/data/COVID19/RAPID/${RUN_ID} /NGS/active/VIR/SARS-CoV2/run_links/MASC/\n",
    "    \n",
    "    NZ_SARS-CoV-2_genomics/Artic_pipeline/gridion_rapid.sh -c ./Artic_pipeline_config -l M -p V1200 $RUN_ID\n",
    "  \n",
    "### MASC gridIon artic V4 run\n",
    "    rsync -zavmr --include=\"*/\" --exclude=\"*.fast5\" --exclude=\"*/fastq_fail/*\" --chmod=D0770,F0640 --groupmap=*:SEC_lab_VIR   grid@10.2.31.23:/data/COVID19/ARTIC/${RUN_ID} /NGS/active/VIR/SARS-CoV2/run_links/MASC/\n",
    "    \n",
    "    bash NZ_SARS-CoV-2_genomics/Artic_pipeline/gridion_artic_96_run_V4.sh -c ./Artic_pipeline_config -l M $RUN_ID\n",
    "\n",
    "### KSC gridIon artic run\n",
    "     bash NZ_SARS-CoV-2_genomics/Artic_pipeline/gridion_artic_96_run.sh -c ./Artic_pipeline_config -l K $RUN_ID\n",
    "\n",
    "### KSC gridIon rapid run\n",
    "    NZ_SARS-CoV-2_genomics/Artic_pipeline/gridion_rapid.sh -c ./Artic_pipeline_config -l K -p V1200 $RUN_ID\n",
    "\n",
    "### CSC gridIon artic run\n",
    "\n",
    "    rsync -zavm --include=\"*/\" --exclude '*.fast5' --exclude '*/fast5_fail/*' --exclude '*/fastq_fail/*' --perms --group --chmod=D0770,F0640 --groupmap=*:SEC_lab_VIR  grid@10.3.30.100:/data/GridION_CSC/COVID19/ARTIC/${RUN_ID} /NGS/active/VIR/SARS-CoV2/run_links/CSC\n",
    "\n",
    "#### **assembly** (Una: for now. I didn't want to accidentaly break other stuff.)\n",
    "\n",
    "    bash NZ_SARS-CoV-2_genomics/Artic_pipeline/gridion_artic_96_run_csc.sh -c ./Artic_pipeline_config -l C $RUN_ID\n",
    "\n",
    "### CSC gridIon rapid run\n",
    "\n",
    "    rsync -zavm --include=\"*/\" --exclude '*.fast5' --exclude '*/fast5_fail/*' --exclude '*/fastq_fail/*' --perms --group --chmod=D0770,F0640 --groupmap=*:SEC_lab_VIR  grid@10.3.30.100:/data/GridION_CSC/COVID19/RAPID/${RUN_ID} /NGS/active/VIR/SARS-CoV2/run_links/CSC\n",
    "    \n",
    "    NZ_SARS-CoV-2_genomics/Artic_pipeline/gridion_rapid.sh -c ./Artic_pipeline_config -l C -p V1200 $RUN_ID\n",
    "\n",
    "\n",
    "### CSC MinION artic run -- deprecated\n",
    "**./NZ_SARS-CoV-2_genomics/Artic_pipeline/minion_artic_run.sh -c ./Artic_pipeline_config -l C $RUN_ID -p V3**\n",
    "\n",
    "**Note: make sure the correct primer is used. It can be V3, V1200, V2500. V3 is Artic, V1200 is Rapid. The default is V1200.**"
   ]
  },
  {
   "cell_type": "markdown",
   "metadata": {},
   "source": [
    "### general instructions\n",
    "These are the scripts that are run by the user. They find the raw data, set up the analysis directories, then they call some sbatch scripts to analyses the data. The scripts are all very similar. The script to call depends on what kind of sequencing library was run, on what type of machine (minion or gridion). The sections below try to explain what one to use. \n",
    "The run scripts use a config file to store paths to data and environments ect so these are not exposed to public if we publish the scripts.\n",
    "\n",
    "\n",
    "The general way to call any run script is:\n",
    "\n",
    "`./NZ_SARS-CoV-2_genomics/Artic_pipeline/run_script.sh -c ./Artic_config_file -l <str> $RUN_ID`\n",
    "\n",
    "NZ_SARS-CoV-2_genomics/Artic_pipeline/minion_artic_run.sh -c ./Artic_pipeline_config -l C $RUN_ID  \n",
    "\n",
    "Where run $RUN_ID is what the run was called on the machine. You would know this from when you rsync'ed the data to production from the sequencer. The `-l` flag is for the location of the run i.e., `K` = KSC, `M` = MASC or `C` = CSC. \n",
    "\n",
    "### gridion_artic_96_run.sh\n",
    "    - This is for the assembly of bash  \n",
    "    \n",
    "    #NZ_SARS-CoV-2_genomics/Artic_pipeline/minion_artic_run.sh -c ./Artic_pipeline_config -l C $RUN_ID   (una: This is wrong right?)\n",
    "    \n",
    "    eg `./NZ_SARS-CoV-2_genomics/Artic_pipeline/gridion_artic_96_run.sh -c ./Artic_pipeline_config -l K $RUN_ID`\n",
    "    \n",
    "    ecalled ARTIC-v3 data from the gridIon (at KSC) for libraries that have used the ligation sequencing kit with any barcode kit 1-24 and 1-96.\n",
    "    - Barcoding/demultiplexing should be turned off on the GridIon as it needs to be done on production for ARTIC protocol to work properly\n",
    "    - Currently active \n",
    "    - I will add extra comments to this script so it is clear what some of the weird Bash stuff does.\n",
    "    - Default location is KSC so remember to add the `-l M` for runs done in MASC \n",
    "\n",
    "### gridion_artic_96_run_V4.sh  \n",
    "\n",
    "modification of gridion_artic_96_run.sh for V4 runs, tried a couple of times, seems to work. haven't tested for KSC or CSC.  \n",
    "\n",
    "bash NZ_SARS-CoV-2_genomics/Artic_pipeline/gridion_artic_96_run_V4.sh -c ./Artic_pipeline_config -l M $RUN_ID\n",
    "\n",
    "### gridion_artic_run_V1200_rapid.sh\n",
    "    - This is for assembly of basecalled and barcoded (demultiplexed) ARTIC-v1200 data produced on the GridIon using the rapid library prep kit. \n",
    "    - Basecalling and barcoding must be ON for this to work. \n",
    "    - Used for the urgent runs \n",
    "    - Currently active\n",
    "    - This also used the location flag\n",
    "\n",
    "### minion_artic_run.sh\n",
    "    - This is for assembly of non-basecalled ARTIC-v3 data produced from the minIon (not gridIon) with the ligation sequencing kit and 1-24 barcode kit. \n",
    "    - Uses the GPU server Orac with slurm for basecalling and assumes 1-24 barcoding.\n",
    "    - This was the first run script, all other run scripts were based on this one. \n",
    "    - Not really used anymore since we got a GridIon but could be useful if CSC does COVID sequencing on a minion\n",
    "    - Could/should upgrade to the 96 barcode kit \n",
    "\n",
    "### gridion_artic_run_V1200.sh\n",
    "    - This is for the assembly of basecalled ARTIC-v1200 data from the gridIon (at KSC) for libraries that have used the ligation sequencing kit/ 1-24 barcode kit.\n",
    "    - Barcoding/demultiplexing should be turned OFF during the GridIon run as it needs to be done on production for ARTIC protocol.\n",
    "    - This is rarely used as the v1200 primers set is generally reserved for urgent runs (rapid kit). Sometimes when a genome has a large missing section we may try this protocol \n",
    "    - should work but not currently active. Should change the barcodes to 1-96\n",
    "    - location flag not used in this script will just be default KSC directories.\n",
    "\n",
    "```bash\n",
    "bash gridion_artic_96_run.sh -c /NGS/active/VIR/SARS-CoV2/Artic_pipeline_config ${RUN_ID}\n",
    "```"
   ]
  },
  {
   "cell_type": "markdown",
   "metadata": {},
   "source": [
    "## Rapid v1200 runs at MASC - Get data\n",
    "\n",
    "\n",
    "### Find the RUN\n",
    "\n",
    "Find out what the RUN_ID is if you can. Look on Teams or in `W:\\COVID-19\\sequencing\\MASC\\RAPID` if the run sheet have been make and loaded up, otheriwse just look around on their GridIon.\n",
    "\n",
    "Find where the run is on their machine. They have a data structure of `/data/COVID/RAPID` so it should be somewhere in there:\n",
    "```bash\n",
    "ssh grid@10.2.31.23\n",
    "```\n",
    "Eg. `grid@GXB03041:/data/COVID/RAPID/20210127_v1200_rapid_MASC`\n",
    "\n",
    "You may need to search around as this hasn't been very consisitant. You will need to know the full path so note it down if it's not in the right place so you can make changes to the rsync command we will run soon \n",
    "\n",
    "export the run_id:\n",
    "```bash\n",
    " export RUN_ID=20210127_v1200_rapid_MASC\n",
    "```\n",
    "\n",
    "### rsync the data to the cluster\n",
    "\n",
    "If the data is in the right place (i.e in `/data/COVID/RAPID`):\n",
    "\n",
    "```bash\n",
    "rsync -zavmr --include=\"*/\" --exclude=\"*.fast5\" --exclude=\"*/fastq_fail/*\" --chmod=D0770,F0640 --groupmap=*:SEC_lab_VIR grid@10.2.31.23:/data/COVID19/RAPID/${RUN_ID} /NGS/active/VIR/SARS-CoV2/run_links/MASC/\n",
    "```\n",
    "\n",
    "This will put the data in the righ place for the script to find it (i.e `/NGS/active/VIR/SARS-CoV2/run_links/MASC/`). If the data was in a different place on the GridIon you will need to change this `/data/COVID19/RAPID/` part of the command\n"
   ]
  },
  {
   "cell_type": "markdown",
   "metadata": {},
   "source": [
    "## Rapid v1200 runs at MASC - Assembly\n",
    "\n",
    "### Run the assembly script.\n",
    " \n",
    "To keep things tidy, I run these commands from the `SARS-CoV2` directory where this note book is now. If you are not there already, `cd /NGS/active/VIR/SARS-CoV2`\n",
    "\n",
    "\n",
    "To start the assembly, run this command:\n",
    "\n",
    "```bash\n",
    "./NZ_SARS-CoV-2_genomics/Artic_pipeline/gridion_artic_run_V1200_rapid.sh -c ./Artic_pipeline_config -l M $RUN_ID\n",
    "```\n",
    "\n",
    "The `-c` flag will point to the required config file. The is one living in `/NGS/active/VIR/SARS-CoV2` where you should be.\n",
    "\n",
    "The `-l` flag needs to be set to `M` or `MSC` for runs from MSC. It just points to the right data and output locations. \n"
   ]
  },
  {
   "cell_type": "code",
   "execution_count": null,
   "metadata": {},
   "outputs": [],
   "source": []
  },
  {
   "cell_type": "code",
   "execution_count": null,
   "metadata": {},
   "outputs": [],
   "source": [
    "## monitor run through the screen or squeue command"
   ]
  },
  {
   "cell_type": "markdown",
   "metadata": {},
   "source": [
    "# optimisations\n",
    "- have a per run config file that specifies run_id and design parameter\n",
    " - auto-choose script to run based on that config\n",
    "\n"
   ]
  },
  {
   "cell_type": "code",
   "execution_count": null,
   "metadata": {},
   "outputs": [],
   "source": []
  },
  {
   "cell_type": "code",
   "execution_count": null,
   "metadata": {},
   "outputs": [],
   "source": []
  },
  {
   "cell_type": "markdown",
   "metadata": {},
   "source": [
    "# dirty 'tricks'\n",
    "- put all IDs in a file (1 per line)\n",
    "- adjust head command for number of samples (+1 to get header)\n",
    "\n",
    "##\n",
    "while read k; do     grep \"$k\" /NGS/active/VIR/SARS-CoV2/analysis/BIdownload/BI_epi.tsv | cut -f 2-4,9-11,28,29; done < /NGS/active/VIR/SARS-CoV2/latest.txt | sed 's/\\t/,/g' | head -36"
   ]
  },
  {
   "cell_type": "markdown",
   "metadata": {},
   "source": [
    "##Pangolin \n",
    "```bash\n",
    "singularity exec -B /NGS:/NGS /opt/bioinf/pangolin/2.1.0/pangolin_2.1.0.sif pangolin -t 10 --max-ambig 0.50 --tempdir /NGS/scratch/VIR/SARS-CoV2 /NGS/active/VIR/SARS-CoV2/analysis/GridIon_assemblies/20210106_analysis/lib1/all.fasta\n",
    "```"
   ]
  },
  {
   "cell_type": "code",
   "execution_count": null,
   "metadata": {},
   "outputs": [],
   "source": [
    "## grep all lineages for latest\n",
    "while read k; do     grep \"$k\"  /NGS/active/VIR/SARS-CoV2/analysis/pangolin_lineage/all_lineage.csv; done < /NGS/active/VIR/SARS-CoV2/latest.txt | head -36\n"
   ]
  },
  {
   "cell_type": "raw",
   "metadata": {},
   "source": [
    "NZ_SARS-CoV-2_genomics/Artic_pipeline/gridion_rapid.sh -c ./Artic_pipeline_config -l K -p V2500 $RUN_ID"
   ]
  }
 ],
 "metadata": {
  "kernelspec": {
   "display_name": "Python 3.9.5",
   "language": "python",
   "name": "python3"
  },
  "language_info": {
   "codemirror_mode": {
    "name": "ipython",
    "version": 3
   },
   "file_extension": ".py",
   "mimetype": "text/x-python",
   "name": "python",
   "nbconvert_exporter": "python",
   "pygments_lexer": "ipython3",
   "version": "3.9.5"
  }
 },
 "nbformat": 4,
 "nbformat_minor": 4
}
